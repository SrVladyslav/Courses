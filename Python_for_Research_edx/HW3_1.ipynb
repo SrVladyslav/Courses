{
  "nbformat": 4,
  "nbformat_minor": 0,
  "metadata": {
    "kernelspec": {
      "display_name": "Python 3",
      "language": "python",
      "name": "python3"
    },
    "language_info": {
      "codemirror_mode": {
        "name": "ipython",
        "version": 3
      },
      "file_extension": ".py",
      "mimetype": "text/x-python",
      "name": "python",
      "nbconvert_exporter": "python",
      "pygments_lexer": "ipython3",
      "version": "3.7.3"
    },
    "colab": {
      "name": "HW3-1.ipynb",
      "provenance": [],
      "collapsed_sections": [],
      "include_colab_link": true
    },
    "accelerator": "GPU"
  },
  "cells": [
    {
      "cell_type": "markdown",
      "metadata": {
        "id": "view-in-github",
        "colab_type": "text"
      },
      "source": [
        "<a href=\"https://colab.research.google.com/github/SrVladyslav/Courses/blob/master/Python_for_Research_edx/HW3_1.ipynb\" target=\"_parent\"><img src=\"https://colab.research.google.com/assets/colab-badge.svg\" alt=\"Open In Colab\"/></a>"
      ]
    },
    {
      "cell_type": "markdown",
      "metadata": {
        "id": "ByKa0iJ_ps4F",
        "colab_type": "text"
      },
      "source": [
        "# Using Python for Research Homework: Week 3, Case Study 1\n",
        "\n",
        "A cipher is a secret code for a language.  In this case study, we will explore a cipher that is reported by contemporary Greek historians to have been used by Julius Caesar to send secret messages to generals during times of war."
      ]
    },
    {
      "cell_type": "markdown",
      "metadata": {
        "id": "T_rAGEpXps4G",
        "colab_type": "text"
      },
      "source": [
        "### Exercise 1\n",
        "\n",
        "A cipher is a secret code for a language. In this case study, we will explore a cipher that is reported by contemporary Greek historians to have been used by Julius Caesar to send secret messages to generals during times of war.\n",
        "\n",
        "The Caesar cipher shifts each letter of a message to another letter in the alphabet located a fixed distance from the original letter. If our encryption key were `1`, we would shift `h` to the next letter `i`, `i` to the next letter `j`, and so on. If we reach the end of the alphabet, which for us is the space character, we simply loop back to `a`. To decode the message, we make a similar shift, except we move the same number of steps backwards in the alphabet.\n",
        "\n",
        "Over the next five exercises, we will create our own Caesar cipher, as well as a message decoder for this cipher. In this exercise, we will define the alphabet used in the cipher.\n",
        "\n",
        "#### Instructions\n",
        "- The `string` library has been imported. Create a string called `alphabet` consisting of the space character `' '` followed by (concatenated with) the lowercase letters. Note that we're only using the lowercase letters in this exercise."
      ]
    },
    {
      "cell_type": "code",
      "metadata": {
        "id": "vB4L_9Syps4G",
        "colab_type": "code",
        "outputId": "5b9b4cc7-c6b0-4687-82c4-cd7f9e226b7f",
        "colab": {
          "base_uri": "https://localhost:8080/",
          "height": 33
        }
      },
      "source": [
        "import string\n",
        "# write your code here!\n",
        "alphabet = ' '+ string.ascii_lowercase\n",
        "\n",
        "print(alphabet)\n"
      ],
      "execution_count": 0,
      "outputs": [
        {
          "output_type": "stream",
          "text": [
            " abcdefghijklmnopqrstuvwxyz\n"
          ],
          "name": "stdout"
        }
      ]
    },
    {
      "cell_type": "markdown",
      "metadata": {
        "id": "Q2_PghZlps4L",
        "colab_type": "text"
      },
      "source": [
        "### Exercise 2 \n",
        "\n",
        "In this exercise, we will define a dictionary that specifies the index of each character in `alphabet`.\n",
        "\n",
        "#### Instructions \n",
        "- `alphabet` has already defined in the last exercise. Create a dictionary with keys consisting of the characters in alphabet and values consisting of the numbers from 0 to 26.\n",
        "- Store this as `positions`."
      ]
    },
    {
      "cell_type": "code",
      "metadata": {
        "id": "NFdHGxnVps4M",
        "colab_type": "code",
        "outputId": "399779f6-97af-4d90-acc2-f6a6458dbc5c",
        "colab": {
          "base_uri": "https://localhost:8080/",
          "height": 53
        }
      },
      "source": [
        "# write your code here!\n",
        "positions = {}\n",
        "\n",
        "for i in range(len(alphabet)):\n",
        "  positions[alphabet[i]] = i\n",
        "\n",
        "print(positions)\n"
      ],
      "execution_count": 0,
      "outputs": [
        {
          "output_type": "stream",
          "text": [
            "{' ': 0, 'a': 1, 'b': 2, 'c': 3, 'd': 4, 'e': 5, 'f': 6, 'g': 7, 'h': 8, 'i': 9, 'j': 10, 'k': 11, 'l': 12, 'm': 13, 'n': 14, 'o': 15, 'p': 16, 'q': 17, 'r': 18, 's': 19, 't': 20, 'u': 21, 'v': 22, 'w': 23, 'x': 24, 'y': 25, 'z': 26}\n"
          ],
          "name": "stdout"
        }
      ]
    },
    {
      "cell_type": "markdown",
      "metadata": {
        "id": "cRAkxiwGps4O",
        "colab_type": "text"
      },
      "source": [
        "### Exercise 3\n",
        "\n",
        "In this exercise, we will encode a message with a Caesar cipher.\n",
        "\n",
        "#### Instructions \n",
        "\n",
        "- `alphabet` and `positions` have already been defined in previous exercises. Use `positions` to create an encoded message based on message where each character in message has been shifted forward by 1 position, as defined by positions.\n",
        "- **Note that you can ensure the result remains within 0-26 using result % 27**\n",
        "- Store this as `encoded_message`."
      ]
    },
    {
      "cell_type": "code",
      "metadata": {
        "id": "4ERt2bvsps4P",
        "colab_type": "code",
        "outputId": "586508d2-fa2c-4fbc-a2d2-7bf2458f9dd2",
        "colab": {
          "base_uri": "https://localhost:8080/",
          "height": 33
        }
      },
      "source": [
        "message = \"hi my name is caesar\"\n",
        "# write your code here!\n",
        "\n",
        "enc = dict(zip(positions.values(), positions.keys()))\n",
        "encoded_message = ''\n",
        "for l in message:\n",
        "  encoded_message += enc[((positions[l] + 1)%27)]\n",
        "\n",
        "print(encoded_message)"
      ],
      "execution_count": 0,
      "outputs": [
        {
          "output_type": "stream",
          "text": [
            "ijanzaobnfajtadbftbs\n"
          ],
          "name": "stdout"
        }
      ]
    },
    {
      "cell_type": "markdown",
      "metadata": {
        "id": "kY0w8zmips4R",
        "colab_type": "text"
      },
      "source": [
        "### Exercise 4\n",
        "\n",
        "In this exercise, we will define a function that encodes a message with any given encryption key.\n",
        "\n",
        "#### Instructions \n",
        "- `alphabet`, `position` and `message` remain defined from previous exercises. Define a function `encoding` that takes a message as input as well as an int encryption key `key` to encode a message with the Caesar cipher by shifting each letter in message by key positions.\n",
        "- Your function should return a string consisting of these encoded letters.\n",
        "- Use `encoding` to encode message using `key = 3` and save the result as `encoded_message`.\n",
        "Print `encoded_message`."
      ]
    },
    {
      "cell_type": "code",
      "metadata": {
        "id": "rhZozeLyps4S",
        "colab_type": "code",
        "outputId": "744181d1-7573-4719-ba40-dabba9249acf",
        "colab": {
          "base_uri": "https://localhost:8080/",
          "height": 33
        }
      },
      "source": [
        "# write your code here \n",
        "def encoding(message, key):\n",
        "  encoded_message = ''\n",
        "  for l in message:\n",
        "    encoded_message += enc[((positions[l] + key)%27)]\n",
        "  return encoded_message\n",
        "encoded_message = encoding(message, 3)\n",
        "print(encoding(message, 3))"
      ],
      "execution_count": 0,
      "outputs": [
        {
          "output_type": "stream",
          "text": [
            "klcpacqdphclvcfdhvdu\n"
          ],
          "name": "stdout"
        }
      ]
    },
    {
      "cell_type": "markdown",
      "metadata": {
        "id": "2vR0sZcLps4U",
        "colab_type": "text"
      },
      "source": [
        "### Exercise 5\n",
        "\n",
        "In this exercise, we will decode an encoded message.\n",
        "\n",
        "#### Instructions \n",
        "- Use `encoding` to decode `encoded_message`.\n",
        "- Store your encoded message as `decoded_message`.\n",
        "- Print `decoded_message`. Does this recover your original message?"
      ]
    },
    {
      "cell_type": "code",
      "metadata": {
        "id": "ss2BrRlpps4V",
        "colab_type": "code",
        "outputId": "55c5abdc-48e3-46de-f3ff-c3fa05a97dcc",
        "colab": {
          "base_uri": "https://localhost:8080/",
          "height": 485
        }
      },
      "source": [
        "# write your code here!\n",
        "print(encoded_message)\n",
        "em = encoding(message, 3)\n",
        "for i in range(27):\n",
        "  print(-i,\":\",encoding(encoded_message, -i))"
      ],
      "execution_count": 0,
      "outputs": [
        {
          "output_type": "stream",
          "text": [
            "klcpacqdphclvcfdhvdu\n",
            "0 : klcpacqdphclvcfdhvdu\n",
            "-1 : jkbo bpcogbkubecguct\n",
            "-2 : ijanzaobnfajtadbftbs\n",
            "-3 : hi my name is caesar\n",
            "-4 : ghzlxzm ldzhrzb dr q\n",
            "-5 : fgykwylzkcygqyazcqzp\n",
            "-6 : efxjvxkyjbxfpx ybpyo\n",
            "-7 : dewiuwjxiaweowzxaoxn\n",
            "-8 : cdvhtviwh vdnvyw nwm\n",
            "-9 : bcugsuhvgzucmuxvzmvl\n",
            "-10 : abtfrtgufytbltwuyluk\n",
            "-11 :  aseqsftexsaksvtxktj\n",
            "-12 : z rdpresdwr jruswjsi\n",
            "-13 : yzqcoqdrcvqziqtrvirh\n",
            "-14 : xypbnpcqbupyhpsquhqg\n",
            "-15 : wxoamobpatoxgorptgpf\n",
            "-16 : vwn lnao snwfnqosfoe\n",
            "-17 : uvmzkm nzrmvempnrend\n",
            "-18 : tulyjlzmyqludlomqdmc\n",
            "-19 : stkxikylxpktcknlpclb\n",
            "-20 : rsjwhjxkwojsbjmkobka\n",
            "-21 : qrivgiwjvnirailjnaj \n",
            "-22 : pqhufhviumhq hkim iz\n",
            "-23 : opgteguhtlgpzgjhlzhy\n",
            "-24 : nofsdftgskfoyfigkygx\n",
            "-25 : mnercesfrjenxehfjxfw\n",
            "-26 : lmdqbdreqidmwdgeiwev\n"
          ],
          "name": "stdout"
        }
      ]
    },
    {
      "cell_type": "code",
      "metadata": {
        "id": "kUGq0nXnyfS5",
        "colab_type": "code",
        "colab": {}
      },
      "source": [
        ""
      ],
      "execution_count": 0,
      "outputs": []
    }
  ]
}