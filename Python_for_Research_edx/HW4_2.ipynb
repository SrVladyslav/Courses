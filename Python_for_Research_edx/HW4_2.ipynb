{
  "nbformat": 4,
  "nbformat_minor": 0,
  "metadata": {
    "kernelspec": {
      "display_name": "Python 3",
      "language": "python",
      "name": "python3"
    },
    "language_info": {
      "codemirror_mode": {
        "name": "ipython",
        "version": 3
      },
      "file_extension": ".py",
      "mimetype": "text/x-python",
      "name": "python",
      "nbconvert_exporter": "python",
      "pygments_lexer": "ipython3",
      "version": "3.8.2"
    },
    "toc": {
      "base_numbering": 1,
      "nav_menu": {},
      "number_sections": true,
      "sideBar": true,
      "skip_h1_title": false,
      "title_cell": "Table of Contents",
      "title_sidebar": "Contents",
      "toc_cell": false,
      "toc_position": {},
      "toc_section_display": true,
      "toc_window_display": false
    },
    "colab": {
      "name": "HW4-2.ipynb",
      "provenance": [],
      "collapsed_sections": [],
      "include_colab_link": true
    },
    "accelerator": "GPU"
  },
  "cells": [
    {
      "cell_type": "markdown",
      "metadata": {
        "id": "view-in-github",
        "colab_type": "text"
      },
      "source": [
        "<a href=\"https://colab.research.google.com/github/SrVladyslav/Courses/blob/master/Python_for_Research_edx/HW4_2.ipynb\" target=\"_parent\"><img src=\"https://colab.research.google.com/assets/colab-badge.svg\" alt=\"Open In Colab\"/></a>"
      ]
    },
    {
      "cell_type": "markdown",
      "metadata": {
        "id": "scHmdoL8wJtP",
        "colab_type": "text"
      },
      "source": [
        "# Using Python for Research Homework: Week 4, Case Study 2\n",
        "\n",
        "In this case study, we will continue taking a look at patterns of flight for each of the three birds in our dataset."
      ]
    },
    {
      "cell_type": "code",
      "metadata": {
        "id": "fo4oqFHgwJtQ",
        "colab_type": "code",
        "colab": {
          "base_uri": "https://localhost:8080/",
          "height": 196
        },
        "outputId": "a034b4e1-f6e2-4a2f-e745-f3ba8ca3d0f2"
      },
      "source": [
        "# DO NOT EDIT THIS CODE\n",
        "import pandas as pd\n",
        "import numpy as np\n",
        "birddata = pd.read_csv(\"https://courses.edx.org/asset-v1:HarvardX+PH526x+2T2019+type@asset+block@bird_tracking.csv\", index_col=0)\n",
        "birddata.head()"
      ],
      "execution_count": 35,
      "outputs": [
        {
          "output_type": "execute_result",
          "data": {
            "text/html": [
              "<div>\n",
              "<style scoped>\n",
              "    .dataframe tbody tr th:only-of-type {\n",
              "        vertical-align: middle;\n",
              "    }\n",
              "\n",
              "    .dataframe tbody tr th {\n",
              "        vertical-align: top;\n",
              "    }\n",
              "\n",
              "    .dataframe thead th {\n",
              "        text-align: right;\n",
              "    }\n",
              "</style>\n",
              "<table border=\"1\" class=\"dataframe\">\n",
              "  <thead>\n",
              "    <tr style=\"text-align: right;\">\n",
              "      <th></th>\n",
              "      <th>altitude</th>\n",
              "      <th>date_time</th>\n",
              "      <th>device_info_serial</th>\n",
              "      <th>direction</th>\n",
              "      <th>latitude</th>\n",
              "      <th>longitude</th>\n",
              "      <th>speed_2d</th>\n",
              "      <th>bird_name</th>\n",
              "    </tr>\n",
              "  </thead>\n",
              "  <tbody>\n",
              "    <tr>\n",
              "      <th>0</th>\n",
              "      <td>71</td>\n",
              "      <td>2013-08-15 00:18:08+00</td>\n",
              "      <td>851</td>\n",
              "      <td>-150.469753</td>\n",
              "      <td>49.419860</td>\n",
              "      <td>2.120733</td>\n",
              "      <td>0.150000</td>\n",
              "      <td>Eric</td>\n",
              "    </tr>\n",
              "    <tr>\n",
              "      <th>1</th>\n",
              "      <td>68</td>\n",
              "      <td>2013-08-15 00:48:07+00</td>\n",
              "      <td>851</td>\n",
              "      <td>-136.151141</td>\n",
              "      <td>49.419880</td>\n",
              "      <td>2.120746</td>\n",
              "      <td>2.438360</td>\n",
              "      <td>Eric</td>\n",
              "    </tr>\n",
              "    <tr>\n",
              "      <th>2</th>\n",
              "      <td>68</td>\n",
              "      <td>2013-08-15 01:17:58+00</td>\n",
              "      <td>851</td>\n",
              "      <td>160.797477</td>\n",
              "      <td>49.420310</td>\n",
              "      <td>2.120885</td>\n",
              "      <td>0.596657</td>\n",
              "      <td>Eric</td>\n",
              "    </tr>\n",
              "    <tr>\n",
              "      <th>3</th>\n",
              "      <td>73</td>\n",
              "      <td>2013-08-15 01:47:51+00</td>\n",
              "      <td>851</td>\n",
              "      <td>32.769360</td>\n",
              "      <td>49.420359</td>\n",
              "      <td>2.120859</td>\n",
              "      <td>0.310161</td>\n",
              "      <td>Eric</td>\n",
              "    </tr>\n",
              "    <tr>\n",
              "      <th>4</th>\n",
              "      <td>69</td>\n",
              "      <td>2013-08-15 02:17:42+00</td>\n",
              "      <td>851</td>\n",
              "      <td>45.191230</td>\n",
              "      <td>49.420331</td>\n",
              "      <td>2.120887</td>\n",
              "      <td>0.193132</td>\n",
              "      <td>Eric</td>\n",
              "    </tr>\n",
              "  </tbody>\n",
              "</table>\n",
              "</div>"
            ],
            "text/plain": [
              "   altitude               date_time  ...  speed_2d  bird_name\n",
              "0        71  2013-08-15 00:18:08+00  ...  0.150000       Eric\n",
              "1        68  2013-08-15 00:48:07+00  ...  2.438360       Eric\n",
              "2        68  2013-08-15 01:17:58+00  ...  0.596657       Eric\n",
              "3        73  2013-08-15 01:47:51+00  ...  0.310161       Eric\n",
              "4        69  2013-08-15 02:17:42+00  ...  0.193132       Eric\n",
              "\n",
              "[5 rows x 8 columns]"
            ]
          },
          "metadata": {
            "tags": []
          },
          "execution_count": 35
        }
      ]
    },
    {
      "cell_type": "markdown",
      "metadata": {
        "id": "-3UcljDbwJtU",
        "colab_type": "text"
      },
      "source": [
        "### Exercise 1\n",
        "\n",
        "In this case study, we will continue taking a look at patterns of flight for each of the three birds in our dataset. We will group the flight patterns by bird and date, and plot the mean altitude for these groupings.\n",
        "\n",
        "`pandas` makes it easy to perform basic operations on groups within a dataframe without needing to loop through each value in the dataframe. In this exercise, we will group the dataframe by `birdname` and then find the average `speed_2d` for each bird.\n",
        "\n",
        "#### Instructions \n",
        "- Fill in the code to find the mean altitudes of each bird using the pre-loaded `birddata` dataframe. "
      ]
    },
    {
      "cell_type": "code",
      "metadata": {
        "id": "SuAprHT3wJtU",
        "colab_type": "code",
        "colab": {
          "base_uri": "https://localhost:8080/",
          "height": 67
        },
        "outputId": "4de8ac7b-a3cb-4dae-bd04-6da1377c2292"
      },
      "source": [
        "# First, use `groupby()` to group the data by \"bird_name\".\n",
        "grouped_birds = birddata.groupby('bird_name')\n",
        "\n",
        "# Now calculate the mean of `speed_2d` using the `mean()` function.\n",
        "mean_speeds = [np.mean(birddata.loc[birddata['bird_name'] == names,'speed_2d']) for names in birddata['bird_name'].unique()]\n",
        "\n",
        "# Find the mean `altitude` for each bird.\n",
        "mean_altitudes = [np.mean(birddata.loc[birddata['bird_name'] == names,'altitude']) for names in birddata['bird_name'].unique()]\n",
        "\n",
        "\n",
        "print(birddata['bird_name'].unique())\n",
        "print(\"Speeds >> \",mean_speeds)\n",
        "print(\"Speeds >> \",mean_altitudes)"
      ],
      "execution_count": 36,
      "outputs": [
        {
          "output_type": "stream",
          "text": [
            "['Eric' 'Nico' 'Sanne']\n",
            "Speeds >>  [2.3005445907278466, 2.9087263541396617, 2.4504341163584806]\n",
            "Speeds >>  [60.249406415761555, 67.90047819705507, 29.159921919634357]\n"
          ],
          "name": "stdout"
        }
      ]
    },
    {
      "cell_type": "markdown",
      "metadata": {
        "id": "A1pJ1oTCwJtX",
        "colab_type": "text"
      },
      "source": [
        "### Exercise 2\n",
        "\n",
        "In this exercise, we will group the flight times by date and calculate the mean altitude within that day.\n",
        "\n",
        "#### Instructions \n",
        "- Convert `birddata.date_time` to the `pd.datetime` format, extract the date, and store it as `birddata[\"date\"]`.\n",
        "- Fill in the code to find the mean altitudes for each day.\n",
        "\n",
        "What is the mean altitude of the birds on 2013-09-12? (Hint: You will need to convert this to a datetime object as well, extract the date, and then use this to index into the dataframe.)"
      ]
    },
    {
      "cell_type": "code",
      "metadata": {
        "id": "p9EhzqZNwJtY",
        "colab_type": "code",
        "colab": {
          "base_uri": "https://localhost:8080/",
          "height": 50
        },
        "outputId": "6c91a0c1-4597-42e4-9394-a4047ea66361"
      },
      "source": [
        "# Convert birddata.date_time to the `pd.datetime` format.\n",
        "import datetime\n",
        "#birddata.date_time = pd.Series([datetime.datetime.strptime(birddata.date_time.iloc[k][:-3], \"%Y-%m-%d %H:%M:%S\") for k in range(len(birddata))])\n",
        "\n",
        "# Create a new column of day of observation\n",
        "birddata[\"date\"] = pd.to_datetime(birddata.date_time.dt.date)\n",
        "\n",
        "\n",
        "# Use `groupby()` to group the data by date.\n",
        "grouped_bydates = birddata.groupby('date')\n",
        "\n",
        "grouped_bydates.head()\n",
        "\n",
        "\n",
        "# Find the mean `altitude` for each date.\n",
        "mean_altitudes_perday = dict(zip(grouped_bydates.date.unique().index, [grouped_bydates.get_group(pd.to_datetime(d).date()).altitude.mean() for d in grouped_bydates.date.unique().index]))\n",
        "\n",
        "print(mean_altitudes_perday[pd.to_datetime('2013-09-12')])\n",
        "\n",
        "# This also works :)\n",
        "d = pd.to_datetime(\"2013-09-12\").date()\n",
        "print(grouped_bydates.get_group('2013-09-12').altitude.mean()) # Just for Eric!! "
      ],
      "execution_count": 149,
      "outputs": [
        {
          "output_type": "stream",
          "text": [
            "75.64609053497942\n",
            "75.64609053497942\n"
          ],
          "name": "stdout"
        }
      ]
    },
    {
      "cell_type": "markdown",
      "metadata": {
        "id": "xUiPgvB3wJta",
        "colab_type": "text"
      },
      "source": [
        "### Exercise 3\n",
        "\n",
        "In this exercise, we will group the flight times by both bird and date, and calculate the mean altitude for each.\n",
        "\n",
        "#### Instructions \n",
        "- `birddata` already contains the `date` column. To find the average speed for each bird and day, create a new grouped dataframe called `grouped_birdday` that groups the data by both `bird_name` and date."
      ]
    },
    {
      "cell_type": "code",
      "metadata": {
        "id": "y5tIvhh4wJta",
        "colab_type": "code",
        "colab": {
          "base_uri": "https://localhost:8080/",
          "height": 33
        },
        "outputId": "953fcba9-8a8e-46ca-b7e5-c7385b7b932d"
      },
      "source": [
        "# Use `groupby()` to group the data by bird and date.\n",
        "grouped_birdday = birddata.groupby([\"bird_name\", \"date\"])\n",
        "\n",
        "# Find the mean `altitude` for each bird and date.\n",
        "mean_altitudes_perday = birddata[birddata.bird_name == 'Eric'].groupby('date').altitude.mean()\n",
        "\n",
        "# Infor for Eric :)\n",
        "print(\"Altitude for Eric: \",mean_altitudes_perday[pd.to_datetime('2013-08-18').date()])"
      ],
      "execution_count": 160,
      "outputs": [
        {
          "output_type": "stream",
          "text": [
            "Altitude for Eric:  121.35365853658537\n"
          ],
          "name": "stdout"
        }
      ]
    },
    {
      "cell_type": "markdown",
      "metadata": {
        "id": "_kPewiFOwJtd",
        "colab_type": "text"
      },
      "source": [
        "### Exercise 4\n",
        "\n",
        "Great! Now find the average speed for each bird and day.\n",
        "\n",
        "#### Instructions \n",
        "\n",
        "- Store these are three `pandas` `Series` objects, one for each bird.\n",
        "- Use the plotting code provided to plot the average speeds for each bird."
      ]
    },
    {
      "cell_type": "code",
      "metadata": {
        "id": "PNnUep_iwJtd",
        "colab_type": "code",
        "colab": {
          "base_uri": "https://localhost:8080/",
          "height": 294
        },
        "outputId": "74a5d2d7-dde3-489f-b85a-282d3d743847"
      },
      "source": [
        "import matplotlib.pyplot as plt\n",
        "\n",
        "eric_daily_speed  = grouped_birdday.speed_2d.mean()[\"Eric\"] # Enter your code here. \n",
        "sanne_daily_speed = grouped_birdday.speed_2d.mean()[\"Sanne\"]# Enter your code here.\n",
        "nico_daily_speed  = grouped_birdday.speed_2d.mean()[\"Nico\"]# Enter your code here.\n",
        "\n",
        "print(\"Nico's speed at 204/04/04: \",nico_daily_speed['2014-04-04'])\n",
        "\n",
        "eric_daily_speed.plot(label=\"Eric\")\n",
        "sanne_daily_speed.plot(label=\"Sanne\")\n",
        "nico_daily_speed.plot(label=\"Nico\")\n",
        "plt.legend(loc=\"upper left\")\n",
        "plt.show()"
      ],
      "execution_count": 55,
      "outputs": [
        {
          "output_type": "stream",
          "text": [
            "Nico's speed at 204/04/04:  2.8324654508684057\n"
          ],
          "name": "stdout"
        },
        {
          "output_type": "display_data",
          "data": {
            "image/png": "[encoded data removed]",
            "text/plain": [
              "<Figure size 432x288 with 1 Axes>"
            ]
          },
          "metadata": {
            "tags": [],
            "needs_background": "light"
          }
        }
      ]
    }
  ]
}